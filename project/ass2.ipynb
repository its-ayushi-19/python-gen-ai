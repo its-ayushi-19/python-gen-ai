{
 "cells": [
  {
   "cell_type": "markdown",
   "id": "7d73e5a3",
   "metadata": {},
   "source": [
    "Loops and Conditional Statements"
   ]
  },
  {
   "cell_type": "markdown",
   "id": "71a6be5b",
   "metadata": {},
   "source": [
    "1. How do `if-elif-else` statements work in Python? Provide an example where multiple conditions must be checked and explain the flow of control.\n",
    "   Coding Challenge:Write a function that takes a number as input and returns \"Positive\", \"Negative\", or \"Zero\" based on the input value.\n",
    "\n",
    "   ans: In Python, the if-elif-else structure is used for conditional branching. It checks conditions in order and executes the first block where the condition evaluates to True. Once a condition matches, the remaining blocks are skipped.\n",
    "\n",
    "   Flow of control (or control flow) in Python refers to the order in which instructions are executed in a program. Python executes code top to bottom, line by line, unless control is altered using control structures like:\n",
    "\n"
   ]
  },
  {
   "cell_type": "code",
   "execution_count": null,
   "id": "581575b6",
   "metadata": {},
   "outputs": [
    {
     "name": "stdout",
     "output_type": "stream",
     "text": [
      "The number is Negative.\n"
     ]
    }
   ],
   "source": [
    "number = -10\n",
    "if number > 0:\n",
    "    print(\"The number is Positive.\")\n",
    "elif number < 0:\n",
    "    print(\"The number is Negative.\")\n",
    "else:\n",
    "    print(\"The number is Zero.\")\n"
   ]
  },
  {
   "cell_type": "markdown",
   "id": "c236ad9b",
   "metadata": {},
   "source": [
    "2. What is the difference between `for` loops and `while` loops in terms of conditional checks? When would you prefer one over the other?\n",
    "   - Coding Challenge: Write a Python script to print all prime numbers between 1 and 100 using a `for` loop.\n",
    " \n",
    " ans:  A for loop is used when you know in advance how many times you want to repeat a block of code. It's commonly used to iterate over sequences like lists, strings, or ranges.\n",
    "\n",
    "     A while loop is used when you don’t know in advance how many times the loop should run. It keeps running as long as a given condition is True.\n",
    "\n",
    "Use a for loop when:\n",
    "You are iterating over a sequence (like a list, string, or range).\n",
    "You know how many times the loop should run.\n",
    "\n",
    "Use a while loop when:\n",
    "You want to repeat an action until a condition is met.\n",
    "You don't know how many times you'll need to loop.\n"
   ]
  },
  {
   "cell_type": "code",
   "execution_count": 10,
   "id": "e8a3beed",
   "metadata": {},
   "outputs": [
    {
     "name": "stdout",
     "output_type": "stream",
     "text": [
      "2 3 5 7 11 13 17 19 23 29 31 37 41 43 47 53 59 61 67 71 73 79 83 89 97 "
     ]
    }
   ],
   "source": [
    "for num in range(2, 101):  # Start from 2, since 1 is not a prime\n",
    "    is_prime = True\n",
    "    for i in range(2, num):\n",
    "        if num % i == 0:\n",
    "            is_prime = False\n",
    "            break  # No need to check further\n",
    "    if is_prime:\n",
    "        print(num, end=' ')\n"
   ]
  },
  {
   "cell_type": "markdown",
   "id": "68a26e25",
   "metadata": {},
   "source": [
    "3. Explain how nested `if` statements work in Python. How can you avoid deep nesting to make your code more readable?\n",
    "   - Coding Challenge: Write a function that takes three numbers as input and returns the largest of the three using nested `if` statements.\n",
    "\n",
    "ans: A nested if statement is an if block inside another if block. It allows you to test multiple layers of conditions, where a second condition is only checked if the first is true.\n",
    "\n"
   ]
  },
  {
   "cell_type": "code",
   "execution_count": null,
   "id": "7250c82c",
   "metadata": {},
   "outputs": [],
   "source": [
    "## Problem with Deep Nesting\n",
    "## -> Too many nested blocks make code hard to read and difficult to debug, like this:\n",
    " \n",
    " if a:\n",
    "    if b:\n",
    "        if c:\n",
    "            if d:\n",
    "                print(\"Too deep!\")\n"
   ]
  },
  {
   "cell_type": "code",
   "execution_count": 2,
   "id": "04ee64de",
   "metadata": {},
   "outputs": [
    {
     "name": "stdout",
     "output_type": "stream",
     "text": [
      " invalid age\n"
     ]
    }
   ],
   "source": [
    "## How to Avoid Deep Nesting:-\n",
    "# -> Use and, or to combine conditions:\n",
    "try:\n",
    "    \n",
    "    age = int(input(\"enter the age\", ))\n",
    "    has_id = int()\n",
    "    if age >= 18 and has_id:\n",
    "       print(\"You can vote.\")\n",
    "    elif age >= 18 and not has_id:\n",
    "       print(\"You need an ID to vote.\")\n",
    "    else:\n",
    "       print(\"You are too young to vote.\")\n",
    "except ValueError:\n",
    "    print(\" invalid age\")       \n",
    "    \n",
    "    \n",
    "    \n",
    "    \n",
    "    ###### instend of using this \n",
    "    # if condition1:\n",
    "    #if condition2:\n",
    "      #  print(\"Both true\")\n",
    "      \n",
    "    ###### use this \n",
    "   # if condition1 and condition2:\n",
    "   # print(\"Both true\")\n",
    "\n",
    "\n"
   ]
  },
  {
   "cell_type": "code",
   "execution_count": 3,
   "id": "58e11b7f",
   "metadata": {},
   "outputs": [],
   "source": [
    "## Return early (in functions):\n",
    "def check_vote(age, has_id):\n",
    "    if age < 18:\n",
    "        return \"Too young to vote.\"\n",
    "    if not has_id:\n",
    "        return \"ID required to vote.\"\n",
    "    return \"You can vote.\"\n"
   ]
  },
  {
   "cell_type": "code",
   "execution_count": 16,
   "id": "b7f534a9",
   "metadata": {},
   "outputs": [
    {
     "name": "stdout",
     "output_type": "stream",
     "text": [
      "The largest number is: 35\n"
     ]
    }
   ],
   "source": [
    "def largest_of_three():\n",
    "    a = 12\n",
    "    b = 35\n",
    "    c = 28\n",
    "\n",
    "    if a >= b:\n",
    "        if a >= c:\n",
    "            largest = a\n",
    "        else:\n",
    "            largest = c\n",
    "    else:\n",
    "        if b >= c:\n",
    "            largest = b\n",
    "        else:\n",
    "            largest = c\n",
    "\n",
    "    print(\"The largest number is: %d\" % largest)\n",
    "\n",
    "largest_of_three()\n"
   ]
  },
  {
   "cell_type": "markdown",
   "id": "059ac2e5",
   "metadata": {},
   "source": [
    "4. What are the potential risks of using `break` in loops? How does it affect loop execution and what alternatives can you use?   - Coding Challenge: Write a Python program that reads numbers from the user until they input a negative number. The program should then print the sum of all positive numbers entered.\n",
    "\n",
    "ans: The break statement immediately exits the nearest enclosing loop (for or while), regardless of whether the loop condition is still true.\n",
    "\n",
    "It causes an early termination of the loop.\n",
    "\n",
    "How Does break Affect Loop Execution?\n",
    "\n",
    "When break runs:\n",
    "The loop stops immediately.\n",
    "Control jumps to the first statement after the loop.\n",
    "It skips any remaining iterations or code inside the loop after the break.\n"
   ]
  },
  {
   "cell_type": "code",
   "execution_count": null,
   "id": "2893cf5b",
   "metadata": {},
   "outputs": [
    {
     "name": "stdout",
     "output_type": "stream",
     "text": [
      "Sum of positive numbers before first negative: 27\n"
     ]
    }
   ],
   "source": [
    "\n",
    "numbers = [5, 12, 7, 3, 0, -1, 8, 10]\n",
    "\n",
    "# Initialize sum\n",
    "total_sum = 0\n",
    "\n",
    "# Loop through the list\n",
    "for num in numbers:\n",
    "    if num < 0:\n",
    "        break  # Stop the loop when a negative number is found\n",
    "    total_sum += num  # Add to sum if non-negative\n",
    "\n",
    "# Print the result using printf-style formatting\n",
    "print(\"Sum of positive numbers before first negative: %d\" % total_sum)\n"
   ]
  },
  {
   "cell_type": "markdown",
   "id": "0b1017f5",
   "metadata": {},
   "source": [
    "5. :- .  How does the `else` clause in a loop work, and how does it differ from the `else` in conditional statements?\n",
    "Ans :else in Loops (Used with for or while):\n",
    "  The else block runs only if the loop completes normally (i.e., no break was hit).\n",
    "  If the loop is exited early using break, the else block is skipped.\n"
   ]
  },
  {
   "cell_type": "code",
   "execution_count": 5,
   "id": "aab43a92",
   "metadata": {},
   "outputs": [
    {
     "name": "stdout",
     "output_type": "stream",
     "text": [
      "Not in num\n"
     ]
    }
   ],
   "source": [
    "for num in [1, 2, 3, 4]:\n",
    "    if num == 57:\n",
    "        print(\"Found!\")\n",
    "        break\n",
    "else:\n",
    "    print(\"Not in num\")  # Runs because break was not hit\n"
   ]
  },
  {
   "cell_type": "code",
   "execution_count": 6,
   "id": "31ee4b55",
   "metadata": {},
   "outputs": [
    {
     "name": "stdout",
     "output_type": "stream",
     "text": [
      "0\n",
      "1\n",
      "2\n",
      "Loop finished normally\n"
     ]
    }
   ],
   "source": [
    "# Example with while + else:\n",
    "i = 0\n",
    "while i < 3:\n",
    "    print(i)\n",
    "    i += 1\n",
    "else:\n",
    "    print(\"Loop finished normally\")  # Runs because loop ended without break\n"
   ]
  },
  {
   "cell_type": "code",
   "execution_count": 7,
   "id": "d3193107",
   "metadata": {},
   "outputs": [
    {
     "name": "stdout",
     "output_type": "stream",
     "text": [
      "Large\n"
     ]
    }
   ],
   "source": [
    "# else in if Statements:\n",
    "#Runs when the if condition is False.\n",
    "x = 10\n",
    "if x < 5:\n",
    "    print(\"Small\")\n",
    "else:\n",
    "    print(\"Large\")  # Runs because x is not < 5\n"
   ]
  },
  {
   "cell_type": "markdown",
   "id": "ef4bb5e1",
   "metadata": {},
   "source": [
    "Q.6 :- What is a common pitfall when using floating-point numbers in conditional statements? How can you avoid it? \n",
    "Ans.:- \n",
    "\n",
    "Floating-point numbers (like 0.1, 0.2, etc.) cannot always be stored exactly in memory due to how computers represent them.\n",
    "So, comparing them directly can give unexpected results:\n",
    "\n",
    "x = 0.1 + 0.2\n",
    "print(x == 0.3)  #  False (even though you expect it to be True)\n",
    "\n",
    "Because :\n",
    "0.1 + 0.2 = 0.30000000000000004 ## —not exactly 0.3.\n",
    "\n",
    "-> How to Avoid It\n",
    "->Use 'rounding' or 'tolerance' checking.\n",
    "\n",
    "Option 1: Use round()\n",
    "\n",
    "x = 0.1 + 0.2\n",
    "print(round(x, 2) == 0.3)  #  True\n",
    "\n",
    "Option 2: Use a small tolerance (best for precise comparison)\n",
    "\n",
    "x = 0.1 + 0.2\n",
    "y = 0.3\n",
    "epsilon = 1e-9  # very small number\n",
    "\n",
    "print(abs(x - y) < epsilon)  #  True\n",
    "\n"
   ]
  },
  {
   "cell_type": "code",
   "execution_count": 1,
   "id": "e61c2636",
   "metadata": {},
   "outputs": [
    {
     "name": "stdout",
     "output_type": "stream",
     "text": [
      "True\n"
     ]
    }
   ],
   "source": [
    "## Coding Challenge:  Write a Python function that compares two floating-point numbers and returns `True` if they are approximately equal, considering a small tolerance value.\n",
    "\n",
    "def is_approximately_equal(a, b, tolerance=1e-9):\n",
    "    return abs(a - b) < tolerance\n",
    "\n",
    "x = 0.1 + 0.2\n",
    "y = 0.3\n",
    "\n",
    "print(is_approximately_equal(x, y))  # Output: True ✅\n"
   ]
  },
  {
   "cell_type": "markdown",
   "id": "16c882f2",
   "metadata": {},
   "source": [
    "\n",
    "7. How can you combine `for` loops and `if` statements to filter and process data in Python?\n",
    "   - Coding Challenge: Given a list of integers, write a Python program that uses a `for` loop and `if` statements to create a new list containing only the even numbers.\n",
    "   \n",
    "ans:   we can combine for loops and if statements in Python to filter and process data by looping through items and using if to select the ones you want to act on."
   ]
  },
  {
   "cell_type": "code",
   "execution_count": 1,
   "id": "0fbaa954",
   "metadata": {},
   "outputs": [
    {
     "name": "stdout",
     "output_type": "stream",
     "text": [
      "20\n",
      "40\n",
      "60\n"
     ]
    }
   ],
   "source": [
    "numbers = [1, 2, 3, 4, 5, 6]\n",
    "\n",
    "for num in numbers:\n",
    "    if num % 2 == 0:  # Filter even numbers\n",
    "        print(num * 10)  # Process: multiply by 10\n"
   ]
  },
  {
   "cell_type": "code",
   "execution_count": 2,
   "id": "c6ebef86",
   "metadata": {},
   "outputs": [
    {
     "name": "stdout",
     "output_type": "stream",
     "text": [
      "[2, 4, 6, 8, 10, 12, 14, 16]\n"
     ]
    }
   ],
   "source": [
    "lst = [1,2,3,4,5,6,7,8,9,10,11,12,13,14,15,16]\n",
    "lst2 =[]\n",
    "for i in lst:\n",
    "    if i % 2 == 0:\n",
    "        lst2.append(i)\n",
    "print(lst2)\n",
    "   "
   ]
  },
  {
   "cell_type": "markdown",
   "id": "7e3689f4",
   "metadata": {},
   "source": [
    "8. Discuss the concept of short-circuit evaluation in Python. How does it affect the performance of conditional statements?\n",
    "   - Coding Challenge: Write a function that takes three boolean values and returns `True` if at least two of them are `True`, using short-circuit evaluation.\n",
    " ans: Short-circuit evaluation means Python stops checking a condition as soon as it knows the result, when using and or or.\n",
    " "
   ]
  },
  {
   "cell_type": "code",
   "execution_count": 3,
   "id": "1e6d1183",
   "metadata": {},
   "outputs": [
    {
     "name": "stdout",
     "output_type": "stream",
     "text": [
      "Welcome, Alice!\n"
     ]
    }
   ],
   "source": [
    "### 1. :- Using and (Stops if first is False):-\n",
    "\n",
    "x = 0\n",
    "if x != 0 and (10 / x) > 1:\n",
    "    print(\"This won't run\")\n",
    "\n",
    "# x != 0 is False\n",
    "\n",
    "# Python stops and skips (10 / x)\n",
    "\n",
    "# So it avoids error and doesn’t print anything\n",
    "\n",
    "\n",
    "## 2. :- Using or (Stops if first is True)\n",
    "\n",
    "name = \"Alice\"\n",
    "if name == \"Alice\" or len(name) > 100:\n",
    "    print(\"Welcome, Alice!\")\n",
    "\n",
    "# name == \"Alice\" is True\n",
    "\n",
    "# Python doesn’t check len(name) > 100\n",
    "\n",
    "# It prints: Welcome, Alice!\n",
    "\n",
    "## Benefits:\n",
    "\n",
    "# ✅ Faster — avoids extra checks.\n",
    "\n",
    "# ✅ Safer — prevents errors like divide-by-zero."
   ]
  },
  {
   "cell_type": "code",
   "execution_count": 4,
   "id": "48e9cf92",
   "metadata": {},
   "outputs": [
    {
     "name": "stdout",
     "output_type": "stream",
     "text": [
      "True\n",
      "False\n",
      "True\n",
      "False\n",
      "True\n"
     ]
    }
   ],
   "source": [
    "def at_least_two_true(a, b, c):\n",
    "    # Returns True if at least two of the three inputs are True\n",
    "    return (a and b) or (a and c) or (b and c)\n",
    "\n",
    "# Test Cases\n",
    "print(at_least_two_true(True, True, False))   # Output: True\n",
    "print(at_least_two_true(False, True, False))  # Output: False\n",
    "print(at_least_two_true(True, False, True))   # Output: True\n",
    "print(at_least_two_true(False, False, False)) # Output: False\n",
    "print(at_least_two_true(True, True, True))    # Output: True\n"
   ]
  },
  {
   "cell_type": "markdown",
   "id": "51f5a2ef",
   "metadata": {},
   "source": [
    "9. Explain how the `continue` statement works in a loop. What are some scenarios where using `continue` is more beneficial than restructuring the loop?\n",
    "   - Coding Challenge: Write a Python program that iterates through a list of numbers and prints only those numbers that are divisible by 3, using the `continue` statement.\n",
    "\n",
    "ans:The continue statement is used inside loops (for or while) to skip the current iteration and move directly to the next cycle of the loop.\n"
   ]
  },
  {
   "cell_type": "code",
   "execution_count": 6,
   "id": "dfe4a9f8",
   "metadata": {},
   "outputs": [
    {
     "name": "stdout",
     "output_type": "stream",
     "text": [
      "3\n",
      "6\n",
      "9\n",
      "12\n",
      "15\n",
      "18\n"
     ]
    }
   ],
   "source": [
    "## :- Coding Challenge:  Write a Python program that iterates through a list of numbers and prints only those numbers that are divisible by 3, using the `continue` statement.\n",
    "\n",
    "numbers = [1,2,3,4,5,6,7,8,9,10,11,12,13,14,15,16,17,18]\n",
    "for num in numbers:\n",
    "    if num % 3 !=0 :\n",
    "        continue  # skip no. not divisible by 3\n",
    "    print(num)\n",
    "    "
   ]
  },
  {
   "cell_type": "markdown",
   "id": "bbed7362",
   "metadata": {},
   "source": [
    "\n",
    "10. How can you use list comprehensions in combination with conditional statements to make your code more concise?\n",
    "    - Coding Challenge: Write a list comprehension that generates a list of squares of all even numbers between 1 and 20.\n",
    "\n",
    " ans: List comprehension is a short way to create a new list from an old list, using a loop and optional if condition — all in one line.\n",
    "\n",
    "## Basic Syntax:\n",
    "\n",
    "# new_list = [expression for item in iterable if condition]\n",
    "\n",
    "# expression: what you want to store in the new list\n",
    "\n",
    "# condition: filter which items to include\n",
    "\n",
    "# iterable: the original list or sequence\n",
    "\n",
    "# Benefits:\n",
    "\n",
    "# -> Shorter and cleaner than for + if blocks\n",
    "\n",
    "# -> Easier to read once you're familiar with the syntax\n",
    "\n",
    "# -> Great for filtering, mapping, or transforming lists\n"
   ]
  },
  {
   "cell_type": "code",
   "execution_count": 7,
   "id": "992e2b16",
   "metadata": {},
   "outputs": [
    {
     "name": "stdout",
     "output_type": "stream",
     "text": [
      "[2, 4, 6]\n"
     ]
    }
   ],
   "source": [
    "numbers = [1, 2, 3, 4, 5, 6]\n",
    "evens = [n for n in numbers if n % 2 == 0]\n",
    "print(evens)  # ➝ [2, 4, 6]\n"
   ]
  },
  {
   "cell_type": "code",
   "execution_count": null,
   "id": "0efa6c04",
   "metadata": {},
   "outputs": [
    {
     "name": "stdout",
     "output_type": "stream",
     "text": [
      "[4, 16, 36, 64, 100, 144, 196, 256, 324, 400]\n"
     ]
    }
   ],
   "source": [
    "#coding challenge\n",
    "\n",
    "numbers = [1,2,3,4,5,6,7,8,9,10,11,12,13,14,15,16,17,18,19,20]\n",
    "square_of_even_number = [n**2 for n in numbers if n % 2 == 0]\n",
    "print(square_of_even_number)"
   ]
  }
 ],
 "metadata": {
  "kernelspec": {
   "display_name": "Python 3",
   "language": "python",
   "name": "python3"
  },
  "language_info": {
   "codemirror_mode": {
    "name": "ipython",
    "version": 3
   },
   "file_extension": ".py",
   "mimetype": "text/x-python",
   "name": "python",
   "nbconvert_exporter": "python",
   "pygments_lexer": "ipython3",
   "version": "3.11.9"
  }
 },
 "nbformat": 4,
 "nbformat_minor": 5
}

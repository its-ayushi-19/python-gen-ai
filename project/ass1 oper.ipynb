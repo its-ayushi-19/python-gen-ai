{
 "cells": [
  {
   "cell_type": "markdown",
   "id": "f050c177",
   "metadata": {},
   "source": [
    "Q.1 :- What is the difference between the `+=` operator and the `+` operator in Python when used with mutable and immutable types?\n",
    " Ans.:- \n",
    "  + :- Creates a new object by combining values.\n",
    "    :- Does not modify the original object.\n",
    "    :- Works the same for both mutable and immutable types.\n",
    "\n",
    "  += :- For immutable types, it behaves like + and creates a new object.\n",
    "     :- if the object is mutable (like list) then it modify the original list\n",
    "     "
   ]
  },
  {
   "cell_type": "code",
   "execution_count": 1,
   "id": "373fb7ab",
   "metadata": {},
   "outputs": [
    {
     "name": "stdout",
     "output_type": "stream",
     "text": [
      "15\n",
      "10\n"
     ]
    }
   ],
   "source": [
    "#Immutable Type (int)\n",
    "a = 10\n",
    "b = a\n",
    "a += 5     # a = a + 5 → Creates a new number\n",
    "print(a)   # Output: 15\n",
    "print(b)   # Output: 10 (b stays the same)"
   ]
  },
  {
   "cell_type": "code",
   "execution_count": 3,
   "id": "817e19d6",
   "metadata": {},
   "outputs": [
    {
     "name": "stdout",
     "output_type": "stream",
     "text": [
      "Aayushi Agarwal\n",
      "Aayushi\n"
     ]
    }
   ],
   "source": [
    "##Immutable Type (str)\n",
    "name = \"Aayushi\"\n",
    "new_name = name\n",
    "name += \" Agarwal\"  # name = name + \" Agarwal\"\n",
    "print(name)       # Output: Aayushi Agarwal\n",
    "print(new_name)   # Output: Aayushi"
   ]
  },
  {
   "cell_type": "code",
   "execution_count": 4,
   "id": "752e1992",
   "metadata": {},
   "outputs": [
    {
     "name": "stdout",
     "output_type": "stream",
     "text": [
      "['apple', 'banana', 'mango']\n",
      "['apple', 'banana', 'mango']\n"
     ]
    }
   ],
   "source": [
    "# List (Mutable) \n",
    "fruits = [\"apple\", \"banana\"]\n",
    "basket = fruits\n",
    "fruits += [\"mango\"]   # Adds to the same list\n",
    "print(fruits)         # Output: ['apple', 'banana', 'mango'] #  Lists are mutable, so += modifies the original list in-place.\n",
    "print(basket)         # Output: ['apple', 'banana', 'mango'] \n"
   ]
  },
  {
   "cell_type": "code",
   "execution_count": 5,
   "id": "6c02513a",
   "metadata": {},
   "outputs": [
    {
     "name": "stdout",
     "output_type": "stream",
     "text": [
      "['apple', 'banana']\n",
      "['apple', 'banana', 'mango']\n"
     ]
    }
   ],
   "source": [
    "#List with + (Creates New List)\n",
    "fruits = [\"apple\", \"banana\"]\n",
    "basket = fruits + [\"mango\"]  # New list created\n",
    "print(fruits)   # Output: ['apple', 'banana']\n",
    "print(basket)   # Output: ['apple', 'banana', 'mango'] # + does not change the original list — it returns a new one.\n",
    "\n"
   ]
  },
  {
   "cell_type": "markdown",
   "id": "e9459cd0",
   "metadata": {},
   "source": [
    "Q.2 :- Explain the purpose and use of the `in` operator in Python. How does it behave differently when used with different data types, such as strings, lists, and dictionaries?\n",
    "Ans.:- It check whether a value exists in a sequence or collection.\n",
    "    :-  It returns a Boolean: True if the value is found, False otherwise."
   ]
  },
  {
   "cell_type": "code",
   "execution_count": 6,
   "id": "a0cf00fb",
   "metadata": {},
   "outputs": [
    {
     "name": "stdout",
     "output_type": "stream",
     "text": [
      "True\n",
      "False\n"
     ]
    }
   ],
   "source": [
    "#With Strings (Checks if a substring is present)\n",
    "\n",
    "text = \"hello world\"\n",
    "print(\"hello\" in text)   # True\n",
    "print(\"hi\" in text)      # False\n",
    "\n"
   ]
  },
  {
   "cell_type": "code",
   "execution_count": 7,
   "id": "7c46c0c8",
   "metadata": {},
   "outputs": [
    {
     "name": "stdout",
     "output_type": "stream",
     "text": [
      "True\n",
      "False\n"
     ]
    }
   ],
   "source": [
    "#With Lists (Checks if an element exists in the list)\n",
    "fruits = [\"apple\", \"banana\", \"cherry\"]\n",
    "print(\"banana\" in fruits)  # True\n",
    "print(\"grape\" in fruits)   # False\n"
   ]
  },
  {
   "cell_type": "code",
   "execution_count": 8,
   "id": "ba138802",
   "metadata": {},
   "outputs": [
    {
     "name": "stdout",
     "output_type": "stream",
     "text": [
      "True\n",
      "False\n"
     ]
    }
   ],
   "source": [
    "#With Sets (Checks for existence of an element, fast due to hashing)\n",
    "colors = {\"red\", \"green\", \"blue\"}\n",
    "print(\"red\" in colors)    # True\n",
    "print(\"yellow\" in colors) # False\n"
   ]
  },
  {
   "cell_type": "code",
   "execution_count": 9,
   "id": "b460bcab",
   "metadata": {},
   "outputs": [
    {
     "name": "stdout",
     "output_type": "stream",
     "text": [
      "True\n",
      "False\n",
      "True\n"
     ]
    }
   ],
   "source": [
    "#With Dictionaries (Checks for the presence of a key (NOT value))\n",
    "student = {\"name\": \"Alice\", \"age\": 20}\n",
    "print(\"name\" in student)   # True\n",
    "print(\"Alice\" in student) # False\n",
    "\n",
    "#To check values:\n",
    "print(\"Alice\" in student.values())  # True\n"
   ]
  },
  {
   "cell_type": "markdown",
   "id": "cbbf7ad7",
   "metadata": {},
   "source": [
    "Q.3 :- How do the bitwise operators (`&`, `|`, `^`, `~`, `<<`, `>>`) work in Python? Provide examples of their usage.\n",
    "Ans. :- Bitwise operators in Python operate on the binary representations of integers.\n",
    "     "
   ]
  },
  {
   "cell_type": "code",
   "execution_count": 12,
   "id": "c4bbd359",
   "metadata": {},
   "outputs": [
    {
     "name": "stdout",
     "output_type": "stream",
     "text": [
      "2\n"
     ]
    }
   ],
   "source": [
    "# 1. & (Bitwise AND)\n",
    "a = 6      # 0101\n",
    "b = 3   # 0011\n",
    "print(a & b)  # 0001 => 1  ## in bitwise AND only 1 - 1 = 1 , remaining are 0.\n"
   ]
  },
  {
   "cell_type": "code",
   "execution_count": 13,
   "id": "41fc9e3b",
   "metadata": {},
   "outputs": [
    {
     "name": "stdout",
     "output_type": "stream",
     "text": [
      "7\n"
     ]
    }
   ],
   "source": [
    "#  2. | (Bitwise OR)\n",
    "a = 5       # 0101\n",
    "b = 3       # 0011\n",
    "print(a | b)  # 0111 => 7  # in bitwise OR if 1 is present in any of one ( eiither in a or in b) then it will give 1. here only 0 - 0 = 0\n",
    "\n"
   ]
  },
  {
   "cell_type": "code",
   "execution_count": 14,
   "id": "b1dda3ee",
   "metadata": {},
   "outputs": [
    {
     "name": "stdout",
     "output_type": "stream",
     "text": [
      "6\n"
     ]
    }
   ],
   "source": [
    "# 3. ^ (Bitwise XOR)\n",
    "a = 5       # 0101\n",
    "b = 3       # 0011\n",
    "print(a ^ b)  # 0110 => 6 ## in XOR (exclusive OR) same same gives 0 and different different gives 1. i.e 1 - 1 = 0 , 0 - 0 = 0, 1 - 0 = 1\n"
   ]
  },
  {
   "cell_type": "code",
   "execution_count": 15,
   "id": "91acd70f",
   "metadata": {},
   "outputs": [
    {
     "name": "stdout",
     "output_type": "stream",
     "text": [
      "-6\n"
     ]
    }
   ],
   "source": [
    "#  4. ~ (Bitwise NOT)\n",
    "a = 5       # 0101\n",
    "print(~a)     # Inverts to ...1010 => -6 ## in NOT , it reverse each bit . i.e 1 = 0, 0 = 1. \n",
    "## note : ~a is equal to -(a + 1) in Python."
   ]
  },
  {
   "cell_type": "code",
   "execution_count": 16,
   "id": "63a2e902",
   "metadata": {},
   "outputs": [
    {
     "name": "stdout",
     "output_type": "stream",
     "text": [
      "10\n",
      "20\n"
     ]
    }
   ],
   "source": [
    "# 5. << (Left Shift)\n",
    "a = 5       # 0101\n",
    "print(a << 1)  # 1010 => 10   ## In left shift , Shifts the bits to the left, filling with 0s from the right.\n",
    "print(a << 2)  # 10100 => 20\n"
   ]
  },
  {
   "cell_type": "code",
   "execution_count": 17,
   "id": "fce640e6",
   "metadata": {},
   "outputs": [
    {
     "name": "stdout",
     "output_type": "stream",
     "text": [
      "2\n",
      "1\n"
     ]
    }
   ],
   "source": [
    "#  6. >> (Right Shift)\n",
    "a = 5       # 0101\n",
    "print(a >> 1)  # 0010 => 2  ##  In right shift , Shifts the bits to the right, discarding bits on the right.\n",
    "print(a >> 2)  # 0001 => 1\n"
   ]
  },
  {
   "cell_type": "markdown",
   "id": "8ee682a8",
   "metadata": {},
   "source": [
    " Precedence:-  [~(highest) , << , >> , & , ^ , | (lowest)]"
   ]
  },
  {
   "cell_type": "code",
   "execution_count": 18,
   "id": "16338a74",
   "metadata": {},
   "outputs": [
    {
     "name": "stdout",
     "output_type": "stream",
     "text": [
      "5\n"
     ]
    }
   ],
   "source": [
    "## Precedence:-\n",
    "\n",
    "result = 5 | 3 & 1 ## & has higher precedence than | . So first: 3 & 1 →\n",
    "  ## 3 : 011 \n",
    "  ## 1 : 001  \n",
    "  ## o\\p : 001 -> 1\n",
    "  \n",
    "  ## now-> 5|1\n",
    "  ## 5 : 101 \n",
    "  ## 1 : 001\n",
    "  ## o\\p : 101 -> 5 ( finel result)\n",
    "  \n",
    "print(result)\n"
   ]
  },
  {
   "cell_type": "markdown",
   "id": "be1d02b1",
   "metadata": {},
   "source": [
    "Q.4 :- \tWhat are augmented assignment operators, and how do they work in Python? Give examples with `+=`, `-=`, and `*=`.\n",
    "Ans.:- Augmented assignment operators are shortcut operators that combine an arithmetic (or bitwise) operation with assignment.\n",
    " for example : x = x + 5 ## instend of writing this we write\n",
    "               x += 5 \n",
    "                \n",
    "             :- This makes code shorter and often faster.\n",
    "             :- These are useful in Loops and counters.\n",
    "               \n",
    "| Operator |             Meaning                           | Equivalent To |\n",
    "\n",
    "| -------- | --------------------------------------------- | ------------- |\n",
    "| `+=`     | Add and assign                                | `x = x + y`   |\n",
    "| `-=`     | Subtract and assign                           | `x = x - y`   |\n",
    "| `*=`     | Multiply and assign                           | `x = x * y`   |\n",
    "| `/=`     | Divide and assign                             | `x = x / y`   |\n",
    "| `//=`    | Floor divide and assign                       | `x = x // y`  |\n",
    "| `%=`     | Modulo and assign                             | `x = x % y`   |\n",
    "| `**=`    | Power and assign                              | `x = x ** y`  |\n",
    "| `&=`, \\` | =`, `^=`, `<<=`, `>>=\\` → bitwise equivalents |               |\n"
   ]
  },
  {
   "cell_type": "code",
   "execution_count": 19,
   "id": "5949b745",
   "metadata": {},
   "outputs": [
    {
     "name": "stdout",
     "output_type": "stream",
     "text": [
      "15\n",
      "12\n",
      "24\n"
     ]
    }
   ],
   "source": [
    "x = 10\n",
    "\n",
    "x += 5     # Same as x = x + 5\n",
    "print(x)   # 15\n",
    "\n",
    "x -= 3     # Same as x = x - 3\n",
    "print(x)   # 12\n",
    "\n",
    "x *= 2     # Same as x = x * 2\n",
    "print(x)   # 24\n"
   ]
  },
  {
   "cell_type": "code",
   "execution_count": 20,
   "id": "71da5dc4",
   "metadata": {},
   "outputs": [
    {
     "name": "stdout",
     "output_type": "stream",
     "text": [
      "5\n"
     ]
    }
   ],
   "source": [
    "# These are useful in Loops and counters.\n",
    "\n",
    "count = 0  ## count is used to tell that how many times the loop runs\n",
    "for i in range(5):\n",
    "    count += 1  ## count = count + 1\n",
    "print(count)"
   ]
  },
  {
   "cell_type": "markdown",
   "id": "79081c40",
   "metadata": {},
   "source": [
    "\n",
    "Q5.\tHow does Python’s `is` operator differ from `==`, especially in terms of comparing lists, strings, and other complex data types?\n",
    "\n",
    "ans: \n",
    "| Operator | Purpose  | Compares                     |\n",
    "| -------- | -------- | ---------------------------- |\n",
    "| `==`     | Equality | **Values** (contents)        |\n",
    "| `is`     | Identity | **Object identity** (memory) |\n"
   ]
  },
  {
   "cell_type": "code",
   "execution_count": 1,
   "id": "be8ce863",
   "metadata": {},
   "outputs": [
    {
     "name": "stdout",
     "output_type": "stream",
     "text": [
      "True\n"
     ]
    }
   ],
   "source": [
    "a = [1, 2, 3]\n",
    "b = [1, 2, 3]\n",
    "print(a == b)  # ✅ True (same content)\n"
   ]
  },
  {
   "cell_type": "code",
   "execution_count": 2,
   "id": "a501a96b",
   "metadata": {},
   "outputs": [
    {
     "name": "stdout",
     "output_type": "stream",
     "text": [
      "False\n"
     ]
    }
   ],
   "source": [
    "a = [1, 2, 3]\n",
    "b = [1, 2, 3]\n",
    "print(a is b)  # ❌ False (different objects in memory)\n"
   ]
  },
  {
   "cell_type": "code",
   "execution_count": 3,
   "id": "4b479bf3",
   "metadata": {},
   "outputs": [
    {
     "data": {
      "text/plain": [
       "True"
      ]
     },
     "execution_count": 3,
     "metadata": {},
     "output_type": "execute_result"
    }
   ],
   "source": [
    "x = [1, 2]\n",
    "y = [1, 2]\n",
    "z = x\n",
    "\n",
    "x == y   # True: same contents\n",
    "x is y   # False: different objects\n",
    "x is z   # True: same object\n"
   ]
  }
 ],
 "metadata": {
  "kernelspec": {
   "display_name": "Python 3",
   "language": "python",
   "name": "python3"
  },
  "language_info": {
   "codemirror_mode": {
    "name": "ipython",
    "version": 3
   },
   "file_extension": ".py",
   "mimetype": "text/x-python",
   "name": "python",
   "nbconvert_exporter": "python",
   "pygments_lexer": "ipython3",
   "version": "3.11.9"
  }
 },
 "nbformat": 4,
 "nbformat_minor": 5
}

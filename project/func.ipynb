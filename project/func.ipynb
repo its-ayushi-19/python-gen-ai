{
 "cells": [
  {
   "cell_type": "code",
   "execution_count": 2,
   "id": "c84c4fee",
   "metadata": {},
   "outputs": [],
   "source": [
    "## function -- aakpke koi bhi task ko repetitive krwana ka kaam krta h\n",
    "## fuction are if two type\n",
    "## 1 . built in function -- type , len , print\n",
    "## 2 . user defined functions\n"
   ]
  },
  {
   "cell_type": "code",
   "execution_count": null,
   "id": "d9129ba5",
   "metadata": {},
   "outputs": [
    {
     "name": "stdout",
     "output_type": "stream",
     "text": [
      "hello\n"
     ]
    }
   ],
   "source": [
    "def name():\n",
    "    ## block of code\n",
    "    print(\"hello\")\n",
    "    \n",
    "## calling a function\n",
    "name() "
   ]
  },
  {
   "cell_type": "code",
   "execution_count": 4,
   "id": "410b4fb3",
   "metadata": {},
   "outputs": [],
   "source": [
    "## parametrs and argumensts \n",
    "## parameters -- information jo pass krta h function ko bnta time\n",
    "## arguments -- vo information jo function ko call krta time dta h\n",
    "\n"
   ]
  },
  {
   "cell_type": "code",
   "execution_count": null,
   "id": "02c3588e",
   "metadata": {},
   "outputs": [
    {
     "name": "stdout",
     "output_type": "stream",
     "text": [
      "30\n"
     ]
    }
   ],
   "source": [
    "## function without parameters\n",
    "def add():\n",
    "    a = 10\n",
    "    b = 20\n",
    "    print(a+b)\n",
    "    \n",
    "add()    "
   ]
  },
  {
   "cell_type": "code",
   "execution_count": 6,
   "id": "06ed231c",
   "metadata": {},
   "outputs": [
    {
     "data": {
      "text/plain": [
       "50"
      ]
     },
     "execution_count": 6,
     "metadata": {},
     "output_type": "execute_result"
    }
   ],
   "source": [
    "def addition(a,b):  ## heere a, b is parameters\n",
    "    return a+b\n",
    "\n",
    "addition(20 ,30)  ## 20 , 30 is arguments\n",
    "\n"
   ]
  },
  {
   "cell_type": "code",
   "execution_count": 7,
   "id": "bcedfd40",
   "metadata": {},
   "outputs": [
    {
     "name": "stdout",
     "output_type": "stream",
     "text": [
      "the youngest child is linus\n"
     ]
    }
   ],
   "source": [
    "## arbitary arguments -- *args\n",
    "## jab hma nhi pta hota ki no. of arguments ketna pass honga tb hm eska use krta h\n",
    "\n",
    "def child(*kids):\n",
    "    print(\"the youngest child is \" + kids[2])\n",
    "    \n",
    "child(\"email\",\"tobias\",\"linus\")    \n"
   ]
  },
  {
   "cell_type": "code",
   "execution_count": 8,
   "metadata": {},
   "outputs": [
    {
     "name": "stdout",
     "output_type": "stream",
     "text": [
      "the youngest child is email\n"
     ]
    }
   ],
   "source": [
    "## keyworr argument\n",
    "## key valu pair me pass hote h\n",
    "\n",
    "def child(child1,child2,child3):\n",
    "    print(\"the youngest child is \"+ child3)\n",
    "    \n",
    "child(child3 =\"email\",child1 =\" tobias\",child2 = \"linus\")  "
   ]
  },
  {
   "cell_type": "code",
   "execution_count": 9,
   "metadata": {},
   "outputs": [
    {
     "name": "stdout",
     "output_type": "stream",
     "text": [
      "the youngest child is email\n"
     ]
    }
   ],
   "source": [
    "## arbitary keyword arguments --- **kwargs\n",
    "def child(**kids):\n",
    "    print(\"the youngest child is \"+kids[\"child3\"])\n",
    "    \n",
    "child(child3 =\"email\",child1 =\" tobias\",child2 = \"linus\")  "
   ]
  },
  {
   "cell_type": "code",
   "execution_count": 10,
   "id": "0d675345",
   "metadata": {},
   "outputs": [
    {
     "name": "stdout",
     "output_type": "stream",
     "text": [
      "i am from india\n",
      "i am from japan\n",
      "i am from india\n"
     ]
    }
   ],
   "source": [
    "## default parameter value\n",
    "def country(name = \"india\"): ## default ma valu phla he pass kr dta h\n",
    "    print(\"i am from \"+name)\n",
    "    \n",
    "country(\"india\")\n",
    "country(\"japan\")\n",
    "country()"
   ]
  },
  {
   "cell_type": "code",
   "execution_count": 11,
   "id": "1d75fc01",
   "metadata": {},
   "outputs": [
    {
     "name": "stdout",
     "output_type": "stream",
     "text": [
      "['apple', 'banana', 'cherry']\n",
      "['apple', 'banana', 'cherry']\n",
      "['apple', 'banana', 'cherry']\n"
     ]
    }
   ],
   "source": [
    "def fruits(name):\n",
    "    for i in name:\n",
    "        print(name)\n",
    "        \n",
    "fruits([\"apple\",\"banana\", \"cherry\"])        "
   ]
  },
  {
   "cell_type": "code",
   "execution_count": 12,
   "id": "150f1086",
   "metadata": {},
   "outputs": [
    {
     "data": {
      "text/plain": [
       "3.0"
      ]
     },
     "execution_count": 12,
     "metadata": {},
     "output_type": "execute_result"
    }
   ],
   "source": [
    "## you have to make a function which can calculat the avg of a list \n",
    "def avg(name):\n",
    "    return sum(name)/len(name)\n",
    "avg([1,2,3,4,5])\n"
   ]
  },
  {
   "cell_type": "code",
   "execution_count": 13,
   "id": "a34cdb7e",
   "metadata": {},
   "outputs": [
    {
     "name": "stdout",
     "output_type": "stream",
     "text": [
      "The largest number in 12, 45, and 30 is: 45\n"
     ]
    }
   ],
   "source": [
    "## function to find largest among three numbers\n",
    "def find_largest(num1, num2, num3):\n",
    "\n",
    "    if num1 >= num2 and num1 >= num3:\n",
    "        return num1\n",
    "    elif num2 >= num1 and num2 >= num3:\n",
    "        return num2\n",
    "    else:\n",
    "        return num3\n",
    "\n",
    "num1 = 12\n",
    "num2 = 45\n",
    "num3 = 30\n",
    "\n",
    "largest = find_largest(num1, num2, num3)\n",
    "\n",
    "print(f\"The largest number in {num1}, {num2}, and {num3} is: {largest}\")\n",
    "        \n",
    "         "
   ]
  },
  {
   "cell_type": "code",
   "execution_count": 14,
   "id": "cb8eaf0d",
   "metadata": {},
   "outputs": [],
   "source": [
    "## some built in functions -- lambda , map , reduce , zip ,enumerate\n"
   ]
  },
  {
   "cell_type": "code",
   "execution_count": 15,
   "id": "c44cd35e",
   "metadata": {},
   "outputs": [
    {
     "name": "stdout",
     "output_type": "stream",
     "text": [
      "20\n"
     ]
    }
   ],
   "source": [
    "## lambda -- small anonymous function\n",
    "## lambda arguments : expression\n",
    "\n",
    "x = lambda a : a + 10\n",
    "x = lambda a,b : a + b\n",
    "\n",
    "print(x(5,15))"
   ]
  },
  {
   "cell_type": "code",
   "execution_count": 16,
   "id": "e30b377d",
   "metadata": {},
   "outputs": [],
   "source": [
    "## map -- used to apply a functio to each item in am iterable and return a map oject\n",
    "# map(fucton,iterable)\n",
    "def sq(n):\n",
    "    return n * n"
   ]
  },
  {
   "cell_type": "code",
   "execution_count": 17,
   "id": "79c094cb",
   "metadata": {},
   "outputs": [
    {
     "data": {
      "text/plain": [
       "[1, 4, 9, 16, 25]"
      ]
     },
     "execution_count": 17,
     "metadata": {},
     "output_type": "execute_result"
    }
   ],
   "source": [
    "x = [1,2,3,4,5]\n",
    "result = list(map(sq,x))\n",
    "result"
   ]
  },
  {
   "cell_type": "code",
   "execution_count": 18,
   "id": "9b3c344e",
   "metadata": {},
   "outputs": [
    {
     "data": {
      "text/plain": [
       "[1, 4, 9, 16, 25]"
      ]
     },
     "execution_count": 18,
     "metadata": {},
     "output_type": "execute_result"
    }
   ],
   "source": [
    "\n",
    "x = [1,2,3,4,5]\n",
    "result = list(map(lambda n : n*n,x))\n",
    "result\n"
   ]
  },
  {
   "cell_type": "code",
   "execution_count": 19,
   "id": "86a3b3de",
   "metadata": {},
   "outputs": [
    {
     "data": {
      "text/plain": [
       "[2, 4]"
      ]
     },
     "execution_count": 19,
     "metadata": {},
     "output_type": "execute_result"
    }
   ],
   "source": [
    "## filter (function, iterabable)--\n",
    "x = [1,2,3,4,5]\n",
    "result = list(filter(lambda n : n%2 == 0,x))\n",
    "result"
   ]
  },
  {
   "cell_type": "code",
   "execution_count": 20,
   "id": "c3ebb00d",
   "metadata": {},
   "outputs": [
    {
     "data": {
      "text/plain": [
       "15"
      ]
     },
     "execution_count": 20,
     "metadata": {},
     "output_type": "execute_result"
    }
   ],
   "source": [
    "## reduce\n",
    "from functools import reduce ## ya line chlne jrure h reduse ko use krna ka leya\n",
    "## reduce -- it return a single elemnt \n",
    "## reduce (function , itrabale)\n",
    "x = [1,2,3,4,5]\n",
    "result = reduce(lambda n1 ,n2 : n1+n2,x)\n",
    "result\n",
    "\n",
    "## ya left to right chlta h\n",
    "# [3,3,4,5] -- [6,4,5]--- [10,5]--[15]"
   ]
  },
  {
   "cell_type": "code",
   "execution_count": 21,
   "id": "b8fec880",
   "metadata": {},
   "outputs": [
    {
     "data": {
      "text/plain": [
       "[(1, 'red'), (2, 'black'), (3, 'blue')]"
      ]
     },
     "execution_count": 21,
     "metadata": {},
     "output_type": "execute_result"
    }
   ],
   "source": [
    "## zip -- used to combine two or more iterable into single one\n",
    "## zip(itrable)\n",
    "\n",
    "x = [1,2,3]\n",
    "y = [\"red\",\"black\",\"blue\"]\n",
    "result = list(zip(x,y))\n",
    "result"
   ]
  },
  {
   "cell_type": "code",
   "execution_count": 22,
   "id": "4ae4b572",
   "metadata": {},
   "outputs": [
    {
     "data": {
      "text/plain": [
       "[(0, 'red'), (1, 'black'), (2, 'blue')]"
      ]
     },
     "execution_count": 22,
     "metadata": {},
     "output_type": "execute_result"
    }
   ],
   "source": [
    "## enumerate\n",
    "## enumerate (iterable,start=0)\n",
    "\n",
    "x = [\"red\",\"black\",\"blue\"]\n",
    "result = list(enumerate(x))  ## ya elements ka aga no. pritn krta h\n",
    "result"
   ]
  },
  {
   "cell_type": "code",
   "execution_count": null,
   "id": "f7f20b90",
   "metadata": {},
   "outputs": [
    {
     "data": {
      "text/plain": [
       "[(10, 'red'), (11, 'black'), (12, 'blue')]"
      ]
     },
     "execution_count": 23,
     "metadata": {},
     "output_type": "execute_result"
    }
   ],
   "source": [
    "x = [\"red\",\"black\",\"blue\"]\n",
    "result = list(enumerate(x,start =10),)\n",
    "result "
   ]
  },
  {
   "cell_type": "code",
   "execution_count": null,
   "id": "f2544cde",
   "metadata": {},
   "outputs": [],
   "source": []
  }
 ],
 "metadata": {
  "kernelspec": {
   "display_name": "Python 3",
   "language": "python",
   "name": "python3"
  },
  "language_info": {
   "codemirror_mode": {
    "name": "ipython",
    "version": 3
   },
   "file_extension": ".py",
   "mimetype": "text/x-python",
   "name": "python",
   "nbconvert_exporter": "python",
   "pygments_lexer": "ipython3",
   "version": "3.11.9"
  }
 },
 "nbformat": 4,
 "nbformat_minor": 5
}

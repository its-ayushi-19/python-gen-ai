{
 "cells": [
  {
   "cell_type": "markdown",
   "id": "6d16c984",
   "metadata": {},
   "source": [
    "Data types\n",
    "Q.1- 1.\tHow do lists and tuples differ in terms of mutability and performance? When would you choose one over the other?\n",
    " Ans.- \n",
    "LIST:- used to stor collection of data items in pyhton.                          TUPLES:- it is also used to store collection of data.\n",
    "    :- It is Mutable(we can change, update, and delete any item from the list )  :- It is immutable(We can not update,change, delete)\n",
    "    :- It is denoted as []                                                       :-It is denoted as ()\n",
    "    :- It use higher memory                                                      :- It use less memory\n",
    "    :- It is slightly slow                                                       :- It is faster\n",
    "                                             When to use what :-\n",
    "           USE                                       List                                TUPLES\n",
    "Need to modify ,add , remove items     :-           yes   (Mutable)                     NO   (Immutable)\n",
    "when data is fixed and should not be changed :-       NO                                 YES\n",
    "performance and safety                 :-            NO                                  YES\n",
    "\n"
   ]
  },
  {
   "cell_type": "code",
   "execution_count": 1,
   "id": "12ecfdd8",
   "metadata": {},
   "outputs": [
    {
     "name": "stdout",
     "output_type": "stream",
     "text": [
      "[1, 2, 'Aayushi', 4, 12]\n"
     ]
    }
   ],
   "source": [
    "## for list\n",
    "lst = [1,2,\"Aayushi\",4]\n",
    "lst.append(12)\n",
    "print(lst)\n"
   ]
  },
  {
   "cell_type": "code",
   "execution_count": 2,
   "id": "e15b62cf",
   "metadata": {},
   "outputs": [
    {
     "ename": "AttributeError",
     "evalue": "'tuple' object has no attribute 'append'",
     "output_type": "error",
     "traceback": [
      "\u001b[31m---------------------------------------------------------------------------\u001b[39m",
      "\u001b[31mAttributeError\u001b[39m                            Traceback (most recent call last)",
      "\u001b[36mCell\u001b[39m\u001b[36m \u001b[39m\u001b[32mIn[2]\u001b[39m\u001b[32m, line 3\u001b[39m\n\u001b[32m      1\u001b[39m \u001b[38;5;66;03m## for Tuple\u001b[39;00m\n\u001b[32m      2\u001b[39m tpl = (\u001b[32m1\u001b[39m,\u001b[32m2\u001b[39m,\u001b[33m\"\u001b[39m\u001b[33mname\u001b[39m\u001b[33m\"\u001b[39m,\u001b[32m4\u001b[39m)\n\u001b[32m----> \u001b[39m\u001b[32m3\u001b[39m \u001b[43mtpl\u001b[49m\u001b[43m.\u001b[49m\u001b[43mappend\u001b[49m(\u001b[32m12\u001b[39m) \u001b[38;5;66;03m## it will show error because we cannot add any iteam in tuple \u001b[39;00m\n\u001b[32m      4\u001b[39m \u001b[38;5;28mprint\u001b[39m(tpl)\n",
      "\u001b[31mAttributeError\u001b[39m: 'tuple' object has no attribute 'append'"
     ]
    }
   ],
   "source": [
    "## for Tuple\n",
    "tpl = (1,2,\"name\",4)\n",
    "tpl.append(12) ## it will show error because we cannot add any iteam in tuple \n",
    "print(tpl)"
   ]
  },
  {
   "cell_type": "code",
   "execution_count": 3,
   "metadata": {},
   "outputs": [
    {
     "ename": "ValueError",
     "evalue": "invalid literal for int() with base 10: 'name'",
     "output_type": "error",
     "traceback": [
      "\u001b[31m---------------------------------------------------------------------------\u001b[39m",
      "\u001b[31mValueError\u001b[39m                                Traceback (most recent call last)",
      "\u001b[36mCell\u001b[39m\u001b[36m \u001b[39m\u001b[32mIn[3]\u001b[39m\u001b[32m, line 2\u001b[39m\n\u001b[32m      1\u001b[39m s = \u001b[33m\"\u001b[39m\u001b[33mname\u001b[39m\u001b[33m\"\u001b[39m\n\u001b[32m----> \u001b[39m\u001b[32m2\u001b[39m n = \u001b[38;5;28;43mint\u001b[39;49m\u001b[43m(\u001b[49m\u001b[43ms\u001b[49m\u001b[43m)\u001b[49m      \u001b[38;5;66;03m# Works if string is numeric\u001b[39;00m\n\u001b[32m      3\u001b[39m \u001b[38;5;28mprint\u001b[39m(n)\n",
      "\u001b[31mValueError\u001b[39m: invalid literal for int() with base 10: 'name'"
     ]
    }
   ],
   "source": [
    "s = \"name\"\n",
    "n = int(s)      # Works if string is numeric\n",
    "print(n)"
   ]
  },
  {
   "cell_type": "markdown",
   "id": "b7ce8dbb",
   "metadata": {},
   "source": [
    "Q.2 :- Explain how Python handles type conversion between different data types, such as between integers and floats or between strings and lists.\n",
    "Ans.:- Their are two type of type conversion in python.\n",
    " 1 :-  Implicit Type Conversion \n",
    " 2 :- Explicit Type Conversion\n",
    " Implicit Type Conversion -:  Python automatically convert one data type into amother data type.\n",
    " Explicit Type Conversion :-  The programmer manually converts the type using built-in functions.                         \n",
    "                       Built in function are that which is already define in the python.\n",
    "                       \n"
   ]
  },
  {
   "cell_type": "code",
   "execution_count": 4,
   "id": "9fb87b5c",
   "metadata": {},
   "outputs": [
    {
     "name": "stdout",
     "output_type": "stream",
     "text": [
      "12.3\n"
     ]
    }
   ],
   "source": [
    "# integer to flots(Implicit)\n",
    "a= 10 # int\n",
    "b= 2.3 # float\n",
    "c =a+b # int + float = float\n",
    "print(c) ## automaticaly covert "
   ]
  },
  {
   "cell_type": "code",
   "execution_count": 3,
   "id": "4c591c24",
   "metadata": {},
   "outputs": [
    {
     "name": "stdout",
     "output_type": "stream",
     "text": [
      "['h', 'e', 'l', 'l', 'o']\n"
     ]
    }
   ],
   "source": [
    "#integer to float(explict)\n",
    "s=\"hello\"\n",
    "chars=list(s)\n",
    "print(chars)"
   ]
  },
  {
   "cell_type": "markdown",
   "id": "2b763d39",
   "metadata": {},
   "source": [
    "Q.3 :- 3.\tWhat are the key differences between Python’s `list`, `set`, and `dictionary` data types? Provide examples of scenarios where each would be the most appropriate choice.\n",
    "Ans.:- \n",
    "LIST :- Syntex = [1,2,3]\n",
    "     :- it is mutable\n",
    "     :- allow duplicates\n",
    "     :-support indexing\n",
    "     :-used in sequece of items\n",
    "\n",
    "SET :- Syntex = {1,2,3}     \n",
    "    :- it is also mutable\n",
    "    :- do not allow duplicates\n",
    "    :- do not support indexing\n",
    "    :- used in unique collection of items\n",
    "\n",
    "DICTIONARY:- Syntex = {'a':1,'b':2}\n",
    "          :- it is also mutable\n",
    "          :- unique keys and duplicate values allow \n",
    "          :-key based access\n",
    "          :- used in key-value mapping\n",
    "\n"
   ]
  },
  {
   "cell_type": "code",
   "execution_count": null,
   "id": "6eabf892",
   "metadata": {},
   "outputs": [
    {
     "name": "stdout",
     "output_type": "stream",
     "text": [
      "['apple', 'mango', 'apple', 'coffee', 'mango']\n"
     ]
    }
   ],
   "source": [
    "# list\n",
    "shopping_list = [\"apple\", \"mango\", \"apple\", \"coffee\", \"mango\"]\n",
    "print(shopping_list) # allow duplicates "
   ]
  },
  {
   "cell_type": "code",
   "execution_count": null,
   "id": "79c98643",
   "metadata": {},
   "outputs": [
    {
     "name": "stdout",
     "output_type": "stream",
     "text": [
      "{'mango', 'apple', 'coffee'}\n"
     ]
    }
   ],
   "source": [
    "# set\n",
    "unique_items = set(shopping_list) # it will remove duplicates \n",
    "print( unique_items)"
   ]
  },
  {
   "cell_type": "code",
   "execution_count": 10,
   "id": "07784df6",
   "metadata": {},
   "outputs": [
    {
     "name": "stdout",
     "output_type": "stream",
     "text": [
      "Items with Quantity:\n",
      "apple: 5\n",
      "strawberry: 6\n",
      "mango: 7\n"
     ]
    }
   ],
   "source": [
    "# dictioonary\n",
    "item_quantity = {\n",
    "    \"apple\": 5,\n",
    "    \"strawberry\": 6,\n",
    "    \"mango\": 7\n",
    "}\n",
    "print(\"Items with Quantity:\")\n",
    "for item, quantity in item_quantity.items():\n",
    "    print(f\"{item}: {quantity}\")   ## here F means formated string means it allow key and value in one line"
   ]
  },
  {
   "cell_type": "markdown",
   "id": "5033f736",
   "metadata": {},
   "source": [
    "Q.4 :- 4.\tDiscuss the role of the `__repr__` and `__str__` methods in custom data types. How do they differ, and when should you implement them?\n",
    "Ans. :- 1. __str__:\n",
    "-> Used to return a nice, readable string when you print the object.\n",
    "-> For users.\n",
    "\n",
    "Example: print(obj) shows something like \"Banty - Roll No: 101\"\n",
    "\n",
    "2. __repr__:\n",
    "-> Used to return a detailed string for debugging.\n",
    "-> For programmers.\n",
    "\n",
    "Example: repr(obj) shows something like \"Student('Banty', 101)\"\n"
   ]
  },
  {
   "cell_type": "code",
   "execution_count": 1,
   "id": "805109cc",
   "metadata": {},
   "outputs": [
    {
     "name": "stdout",
     "output_type": "stream",
     "text": [
      "The output of __str__ is: Banty - Roll No: 101\n",
      "The output of __repr__ is: Student('Banty', 101)\n"
     ]
    }
   ],
   "source": [
    "# example \n",
    "## Imagine you create your own class called Student:\n",
    "# class Student:\n",
    "#     def __init__(self, name, roll):\n",
    "#         self.name = name\n",
    "#         self.roll = roll\n",
    "# s = Student(\"Banty\", 101) ## now , heare we create an object\n",
    "# print(s) ## now we try to pint it \n",
    " ## this give output = <__main__.Student object at 0x00000245BE255690>  ## This is not helpful. It doesn't tell us the name or roll number.\n",
    " \n",
    " # to fix that, we use __str__ and __repr__\n",
    " \n",
    " # -> __str__: for printing nicely\n",
    " \n",
    "class Student:\n",
    "    def __init__(self, name, roll):\n",
    "        self.name = name\n",
    "        self.roll = roll\n",
    "\n",
    "    # User-friendly string (used in print)\n",
    "    def __str__(self):\n",
    "        return f\"{self.name} - Roll No: {self.roll}\"\n",
    "\n",
    "    # Developer/debug string (used in repr)\n",
    "    def __repr__(self):\n",
    "        return f\"Student('{self.name}', {self.roll})\"\n",
    "\n",
    "# Create a student object\n",
    "s = Student(\"Banty\", 101)\n",
    "\n",
    "# Print the object (calls __str__)\n",
    "print(\"The output of __str__ is:\", s)\n",
    "\n",
    "# Use repr() (calls __repr__)\n",
    "print(\"The output of __repr__ is:\", repr(s))\n"
   ]
  },
  {
   "cell_type": "markdown",
   "id": "4e17903a",
   "metadata": {},
   "source": [
    "\n",
    "5.\tHow does Python handle large integers? Explain the difference between `int` in Python 2 and Python 3.\n",
    "\n",
    " ans: Python handles large integers natively and seamlessly, especially in Python 3. Here’s how it works and how it evolved from Python 2 to Python 3.\n",
    "\n",
    "\n",
    "✅ Python 3: Unified int Type\n",
    "In Python 3, there is only one integer type: int.\n",
    "\n",
    "The int type in Python 3 supports arbitrary-precision integers, meaning it can grow as large as the memory allows.\n",
    "\n",
    "You don’t need to do anything special—Python will automatically switch from a small integer to a large one when needed.\n",
    "\n",
    "\n",
    "\n"
   ]
  },
  {
   "cell_type": "code",
   "execution_count": 1,
   "id": "9a89882c",
   "metadata": {},
   "outputs": [
    {
     "name": "stdout",
     "output_type": "stream",
     "text": [
      "10000000000000000000000000000000000000000000000000000000000000000000000000000000000000000000000000000\n"
     ]
    }
   ],
   "source": [
    "x = 10**100  # A 101-digit number\n",
    "print(x)\n"
   ]
  },
  {
   "cell_type": "markdown",
   "id": "e912e1fa",
   "metadata": {},
   "source": [
    "✅Python 2: int vs. long\n",
    "In Python 2, there were two distinct integer types:\n",
    "\n",
    "int:\n",
    "\n",
    "Fixed-size (typically 32 or 64 bits depending on the system).\n",
    "\n",
    "Overflowed if the number was too large.\n",
    "\n",
    "long:\n",
    "\n",
    "Arbitrary-precision integer.\n",
    "\n",
    "Denoted by an L at the end: 12345678901234567890L."
   ]
  },
  {
   "cell_type": "code",
   "execution_count": 5,
   "id": "394d65e7",
   "metadata": {},
   "outputs": [
    {
     "ename": "SyntaxError",
     "evalue": "Missing parentheses in call to 'print'. Did you mean print(...)? (217986162.py, line 3)",
     "output_type": "error",
     "traceback": [
      "  \u001b[36mCell\u001b[39m\u001b[36m \u001b[39m\u001b[32mIn[5]\u001b[39m\u001b[32m, line 3\u001b[39m\n\u001b[31m    \u001b[39m\u001b[31mprint x            # Might raise OverflowError on some systems\u001b[39m\n    ^\n\u001b[31mSyntaxError\u001b[39m\u001b[31m:\u001b[39m Missing parentheses in call to 'print'. Did you mean print(...)?\n"
     ]
    }
   ],
   "source": [
    "# Python 2\n",
    "x = 2 ** 63\n",
    "print x            # Might raise OverflowError on some systems\n",
    "print type(x)      # <type 'long'>\n"
   ]
  }
 ],
 "metadata": {
  "kernelspec": {
   "display_name": "Python 3",
   "language": "python",
   "name": "python3"
  },
  "language_info": {
   "codemirror_mode": {
    "name": "ipython",
    "version": 3
   },
   "file_extension": ".py",
   "mimetype": "text/x-python",
   "name": "python",
   "nbconvert_exporter": "python",
   "pygments_lexer": "ipython3",
   "version": "3.11.9"
  }
 },
 "nbformat": 4,
 "nbformat_minor": 5
}
